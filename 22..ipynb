{
 "cells": [
  {
   "cell_type": "markdown",
   "metadata": {},
   "source": [
    "### 1. What is the result of the code, and explain?\n",
    "\n",
    "### &gt;&gt;&gt; X = &#39;iNeuron&#39;\n",
    "### &gt;&gt;&gt; def func():\n",
    "### print(X)\n",
    "\n",
    "### &gt;&gt;&gt; func()"
   ]
  },
  {
   "cell_type": "code",
   "execution_count": 1,
   "metadata": {},
   "outputs": [
    {
     "name": "stdout",
     "output_type": "stream",
     "text": [
      "iNeuron\n"
     ]
    }
   ],
   "source": [
    "X = 'iNeuron'\n",
    "def func():\n",
    "    print(X)\n",
    "func()"
   ]
  },
  {
   "cell_type": "markdown",
   "metadata": {},
   "source": [
    " Here 'X' variable is assigned a string 'iNeuron'. func() function is taking the global variable X and printing it's content."
   ]
  },
  {
   "cell_type": "markdown",
   "metadata": {},
   "source": [
    "### 2. What is the result of the code, and explain?\n",
    "\n",
    "### &gt;&gt;&gt; X = &#39;iNeuron&#39;\n",
    "###  &gt;&gt;&gt; def func():\n",
    "### X = &#39;NI!&#39;\n",
    "\n",
    "### &gt;&gt;&gt; func()\n",
    "### &gt;&gt;&gt; print(X)"
   ]
  },
  {
   "cell_type": "code",
   "execution_count": 13,
   "metadata": {},
   "outputs": [
    {
     "name": "stdout",
     "output_type": "stream",
     "text": [
      "iNeuron\n"
     ]
    }
   ],
   "source": [
    "X = 'iNeuron' #global variable X is defined\n",
    "def func():\n",
    "        X = 'NI!' # X is updated with local variable\n",
    "func()        \n",
    "print(X)   # printing the global varibale & the global variable is unaffected as the change happened inside the function "
   ]
  },
  {
   "cell_type": "markdown",
   "metadata": {},
   "source": [
    "### 3. What does this code print, and why?\n",
    "\n",
    "### &gt;&gt;&gt; X = &#39;iNeuron&#39;\n",
    "### &gt;&gt;&gt; def func():\n",
    "### X = &#39;NI&#39;\n",
    "### print(X)\n",
    "\n",
    "### &gt;&gt;&gt; func()\n",
    "### &gt;&gt;&gt; print(X)"
   ]
  },
  {
   "cell_type": "code",
   "execution_count": 21,
   "metadata": {},
   "outputs": [
    {
     "name": "stdout",
     "output_type": "stream",
     "text": [
      "NI\n",
      "iNeuron\n"
     ]
    }
   ],
   "source": [
    "X = 'iNeuron' # global variable is defined \n",
    "\n",
    "def func():\n",
    "    X = 'NI'  # X is updated with local value \n",
    "    print(X)  # local value is printed when the function is called\n",
    "\n",
    "func() # function func() is called, it will print the local variable NI\n",
    "\n",
    "print(X) # printing the global varibale & the global variable is unaffected as the change happened inside the function "
   ]
  },
  {
   "cell_type": "markdown",
   "metadata": {},
   "source": [
    "### 4. What output does this code produce? Why?\n",
    "\n",
    "### &gt;&gt;&gt; X = &#39;iNeuron&#39;\n",
    "### &gt;&gt;&gt; def func():\n",
    "### global X\n",
    "###  X = &#39;NI&#39;\n",
    "\n",
    "### &gt;&gt;&gt; func()\n",
    "### &gt;&gt;&gt; print(X)"
   ]
  },
  {
   "cell_type": "code",
   "execution_count": 20,
   "metadata": {},
   "outputs": [
    {
     "name": "stdout",
     "output_type": "stream",
     "text": [
      "NI\n"
     ]
    }
   ],
   "source": [
    "X = 'iNeuron' # global variable iNeuron is defined \n",
    "\n",
    "def func():\n",
    "    global X # X is defined as global variable\n",
    "    X = 'NI' # X is updated with local value 'NI'\n",
    "\n",
    "\n",
    "func()\n",
    "\n",
    "print(X) # Printing the global varibale & the global variable is unaffected is as the change happened inside the function"
   ]
  },
  {
   "cell_type": "markdown",
   "metadata": {},
   "source": [
    "### 5. What about this code—what’s the output, and why?\n",
    "\n",
    "### &gt;&gt;&gt; X = &#39;iNeuron&#39;\n",
    "### &gt;&gt;&gt; def func():\n",
    "### X = &#39;NI&#39;\n",
    "### def nested():\n",
    "### print(X)\n",
    "###  nested()\n",
    "\n",
    "### &gt;&gt;&gt; func()\n",
    "### &gt;&gt;&gt; X"
   ]
  },
  {
   "cell_type": "code",
   "execution_count": 19,
   "metadata": {},
   "outputs": [
    {
     "name": "stdout",
     "output_type": "stream",
     "text": [
      "NI\n"
     ]
    },
    {
     "data": {
      "text/plain": [
       "'iNeuron'"
      ]
     },
     "execution_count": 19,
     "metadata": {},
     "output_type": "execute_result"
    }
   ],
   "source": [
    "X = 'iNeuron' # global variable iNeuron is defined \n",
    "\n",
    "def func():\n",
    "    X = 'NI' # X is updated with local value 'NI'\n",
    "    \n",
    "    def nested(): # a function nested is defiened inside the function\n",
    "        print(X)  # prints the LOCAL variable X (iNeuron) as nested()\n",
    "                 # has access to the local variable X (NI)\n",
    "   \n",
    "    nested() # prints the local variable NI\n",
    "\n",
    "func() #prints the value 'NI'\n",
    "\n",
    "X  #prints the global variable 'iNeuron'"
   ]
  },
  {
   "cell_type": "markdown",
   "metadata": {},
   "source": [
    "### 6. How about this code: what is its output in Python 3, and explain?\n",
    "\n",
    "### &gt;&gt;&gt; def func():\n",
    "### X = &#39;NI&#39;\n",
    "###  def nested():\n",
    "### nonlocal X\n",
    "### X = &#39;Spam&#39;\n",
    "### nested()\n",
    "### print(X)\n",
    "\n",
    "### &gt;&gt;&gt; func()"
   ]
  },
  {
   "cell_type": "code",
   "execution_count": 18,
   "metadata": {},
   "outputs": [
    {
     "name": "stdout",
     "output_type": "stream",
     "text": [
      "Spam\n"
     ]
    }
   ],
   "source": [
    "def func():\n",
    "    X = 'NI'\n",
    "\n",
    "    def nested():\n",
    "        nonlocal X\n",
    "        X = 'Spam'\n",
    "    nested()\n",
    "    print(X)\n",
    "func()"
   ]
  },
  {
   "cell_type": "markdown",
   "metadata": {},
   "source": [
    "This is a nested function example where nested() is the inner/nested function of func(). 'nonlocal' variable inside nested function means their local scope is not defined. So the variable can be neither local nor global.\n",
    "\n",
    "So after defining nonlocal X we are assigning variable X a new value 'Spam' which replaces 'NI' variable. This happens when nested function is called in line 7. So the ouput is 'Spam'. If we don't call the nested() function or define the 'nonlocal X' inside nested(), the variable will not be updated and will print 'NI' as output."
   ]
  },
  {
   "cell_type": "code",
   "execution_count": null,
   "metadata": {},
   "outputs": [],
   "source": []
  }
 ],
 "metadata": {
  "kernelspec": {
   "display_name": "Python 3",
   "language": "python",
   "name": "python3"
  },
  "language_info": {
   "codemirror_mode": {
    "name": "ipython",
    "version": 3
   },
   "file_extension": ".py",
   "mimetype": "text/x-python",
   "name": "python",
   "nbconvert_exporter": "python",
   "pygments_lexer": "ipython3",
   "version": "3.8.5"
  }
 },
 "nbformat": 4,
 "nbformat_minor": 4
}
