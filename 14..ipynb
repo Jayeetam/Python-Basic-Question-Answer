{
 "cells": [
  {
   "cell_type": "markdown",
   "metadata": {},
   "source": [
    "### 1. What does RGBA stand for?"
   ]
  },
  {
   "cell_type": "markdown",
   "metadata": {},
   "source": [
    "RGBA stands for Red, Blue, Green, and Alpha (alpha means transparency)"
   ]
  },
  {
   "cell_type": "markdown",
   "metadata": {},
   "source": [
    "### 2. From the Pillow module, how do you get the RGBA value of any images?"
   ]
  },
  {
   "cell_type": "markdown",
   "metadata": {},
   "source": [
    "We can use getdata() function to to get the RGBA values of an image. For Example:"
   ]
  },
  {
   "cell_type": "code",
   "execution_count": 3,
   "metadata": {},
   "outputs": [
    {
     "name": "stdout",
     "output_type": "stream",
     "text": [
      "[(246, 241, 240, 255), (235, 227, 223, 255), (235, 231, 231, 255), (234, 224, 219, 255), (244, 239, 237, 255), (240, 228, 224, 255), (239, 199, 128, 255), (229, 185, 141, 255), (241, 179, 112, 255), (237, 222, 216, 255), (241, 227, 222, 255), (230, 189, 113, 255), (219, 171, 91, 255), (240, 184, 101, 255), (236, 222, 217, 255), (238, 225, 218, 255), (212, 196, 141, 255), (195, 190, 124, 255), (197, 192, 140, 255), (230, 219, 213, 255), (239, 234, 228, 255), (221, 212, 202, 255), (222, 214, 204, 255), (218, 210, 201, 255), (235, 231, 223, 255)]\n"
     ]
    }
   ],
   "source": [
    "from PIL import Image\n",
    "img=Image.open('C:\\\\Users\\\\user\\\\Desktop\\\\image\\\\autumn_forest.jpg') # loading the image\n",
    "img = img.resize((5,5)) # resizing to the image to avoid long output\n",
    "rgba = img.convert(\"RGBA\") # convert to RGBA values\n",
    "print (list(rgba.getdata())) #printing the RGBA values"
   ]
  },
  {
   "cell_type": "markdown",
   "metadata": {},
   "source": [
    "### 3. What is a box tuple, and how does it work?"
   ]
  },
  {
   "cell_type": "markdown",
   "metadata": {},
   "source": [
    " Box tuple is a way of passing the arguments to Pillow's functions and methods. The argument is passed as a tuple of four integer coordinates, where the first two values represent the upper left corner and the last two values represent the lower right corner of a rectangular region of the image."
   ]
  },
  {
   "cell_type": "markdown",
   "metadata": {},
   "source": [
    "### 4. Use your image and load in notebook then, How can you find out the width and height of an Image object?"
   ]
  },
  {
   "cell_type": "code",
   "execution_count": 4,
   "metadata": {},
   "outputs": [
    {
     "name": "stdout",
     "output_type": "stream",
     "text": [
      "736 736\n"
     ]
    }
   ],
   "source": [
    "from PIL import Image\n",
    "img=Image.open('C:\\\\Users\\\\user\\\\Desktop\\\\image\\\\autumn_forest.jpg') # loading the image\n",
    "width, height = img.size\n",
    "print (width,height) # prints the width and height"
   ]
  },
  {
   "cell_type": "markdown",
   "metadata": {},
   "source": [
    "### 5. What method would you call to get Image object for a 100×100 image, excluding the lower-left quarter of it?"
   ]
  },
  {
   "cell_type": "markdown",
   "metadata": {},
   "source": [
    "If img is an image object. We will use img.crop((0,50,50,100)) method for this."
   ]
  },
  {
   "cell_type": "markdown",
   "metadata": {},
   "source": [
    "### 6. After making changes to an Image object, how could you save it as an image file?"
   ]
  },
  {
   "cell_type": "markdown",
   "metadata": {},
   "source": [
    "If img is an image object, we can use img.save(filename) to save an image. Where filename is the name of the file for saving the image."
   ]
  },
  {
   "cell_type": "markdown",
   "metadata": {},
   "source": [
    "### 7. What module contains Pillow’s shape-drawing code?"
   ]
  },
  {
   "cell_type": "markdown",
   "metadata": {},
   "source": [
    " ImageDraw module contains Pillow’s shape-drawing code."
   ]
  },
  {
   "cell_type": "markdown",
   "metadata": {},
   "source": [
    "### 8. Image objects do not have drawing methods. What kind of object does? How do you get this kind of object?"
   ]
  },
  {
   "cell_type": "markdown",
   "metadata": {},
   "source": [
    " ImageDraw has drawing methods. We can create a new image object by using Image.new() function and pass the Image object to ImageDraw.Draw() function to get an ImageDraw object."
   ]
  },
  {
   "cell_type": "code",
   "execution_count": null,
   "metadata": {},
   "outputs": [],
   "source": []
  }
 ],
 "metadata": {
  "kernelspec": {
   "display_name": "Python 3",
   "language": "python",
   "name": "python3"
  },
  "language_info": {
   "codemirror_mode": {
    "name": "ipython",
    "version": 3
   },
   "file_extension": ".py",
   "mimetype": "text/x-python",
   "name": "python",
   "nbconvert_exporter": "python",
   "pygments_lexer": "ipython3",
   "version": "3.8.5"
  }
 },
 "nbformat": 4,
 "nbformat_minor": 4
}
