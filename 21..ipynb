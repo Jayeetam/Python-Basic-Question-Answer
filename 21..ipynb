{
 "cells": [
  {
   "cell_type": "markdown",
   "metadata": {},
   "source": [
    "### 1. Add the current date to the text file today.txt as a string."
   ]
  },
  {
   "cell_type": "code",
   "execution_count": 1,
   "metadata": {},
   "outputs": [],
   "source": [
    "from datetime import date\n",
    "\n",
    "current_date = date.today()\n",
    "\n",
    "with open('today.txt', 'w') as fin:\n",
    "    fin.write(str(current_date))"
   ]
  },
  {
   "cell_type": "markdown",
   "metadata": {},
   "source": [
    "### 2. Read the text file today.txt into the string today_string"
   ]
  },
  {
   "cell_type": "code",
   "execution_count": 2,
   "metadata": {},
   "outputs": [
    {
     "name": "stdout",
     "output_type": "stream",
     "text": [
      "2022-01-19\n"
     ]
    }
   ],
   "source": [
    "with open('today.txt','r') as fout:\n",
    "    today_string = fout.read()\n",
    "print (today_string)"
   ]
  },
  {
   "cell_type": "markdown",
   "metadata": {},
   "source": [
    "### 3. Parse the date from today_string."
   ]
  },
  {
   "cell_type": "code",
   "execution_count": 3,
   "metadata": {},
   "outputs": [
    {
     "data": {
      "text/plain": [
       "datetime.datetime(2022, 1, 19, 0, 0)"
      ]
     },
     "execution_count": 3,
     "metadata": {},
     "output_type": "execute_result"
    }
   ],
   "source": [
    "import datetime as dt\n",
    "dt.datetime.strptime(today_string,'%Y-%m-%d')"
   ]
  },
  {
   "cell_type": "markdown",
   "metadata": {},
   "source": [
    "### 4. List the files in your current directory"
   ]
  },
  {
   "cell_type": "code",
   "execution_count": 4,
   "metadata": {},
   "outputs": [
    {
     "data": {
      "text/plain": [
       "['.ipynb_checkpoints',\n",
       " '10..ipynb',\n",
       " '11..ipynb',\n",
       " '12..ipynb',\n",
       " '13..ipynb',\n",
       " '14..ipynb',\n",
       " '15..ipynb',\n",
       " '16..ipynb',\n",
       " '17..ipynb',\n",
       " '18..ipynb',\n",
       " '19..ipynb',\n",
       " '1_.ipynb',\n",
       " '20..ipynb',\n",
       " '21..ipynb',\n",
       " '25_.ipynb',\n",
       " '2_.ipynb',\n",
       " '3_.ipynb',\n",
       " '4_.ipynb',\n",
       " '5_.ipynb',\n",
       " '6_.ipynb',\n",
       " '7 Basic.ipynb',\n",
       " '8_.ipynb',\n",
       " '9..ipynb',\n",
       " 'Assignment 23.ipynb',\n",
       " 'Assignment 24.ipynb',\n",
       " 'books.csv',\n",
       " 'books.db',\n",
       " 'test.txt',\n",
       " 'test.zip',\n",
       " 'today.txt',\n",
       " 'zoo.py',\n",
       " '__pycache__']"
      ]
     },
     "execution_count": 4,
     "metadata": {},
     "output_type": "execute_result"
    }
   ],
   "source": [
    "import os\n",
    "os.listdir('./')"
   ]
  },
  {
   "cell_type": "markdown",
   "metadata": {},
   "source": [
    "### 5. Create a list of all of the files in your parent directory (minimum five files should be available)."
   ]
  },
  {
   "cell_type": "code",
   "execution_count": 5,
   "metadata": {},
   "outputs": [
    {
     "data": {
      "text/plain": [
       "['.bash_history',\n",
       " '.conda',\n",
       " '.condarc',\n",
       " '.cufflinks',\n",
       " '.gitconfig',\n",
       " '.ipynb_checkpoints',\n",
       " '.ipython',\n",
       " '.jupyter',\n",
       " '.matplotlib',\n",
       " '.python_history',\n",
       " '.ssh',\n",
       " '1_Programming Assignment .ipynb',\n",
       " '20th March Full Stack Class.ipynb',\n",
       " '21st March Full Stack Class.ipynb',\n",
       " '2_Programming Assignment.ipynb',\n",
       " '3D Objects',\n",
       " '4_Programming Assignment.ipynb',\n",
       " '5_Programming Assignment.ipynb',\n",
       " '6_Programming Assignment.ipynb',\n",
       " '7_03_2021.ipynb',\n",
       " '7_Programming Assignment.ipynb',\n",
       " '8_Programming Assignment.ipynb',\n",
       " 'anaconda3',\n",
       " 'AppData',\n",
       " 'Application Data',\n",
       " 'Assignment_1.ipynb',\n",
       " 'Contacts',\n",
       " 'Cookies',\n",
       " 'Desktop',\n",
       " 'Documents',\n",
       " 'Downloads',\n",
       " 'Employee Churn Prediction',\n",
       " 'environment.yml',\n",
       " 'Favorites',\n",
       " 'IBA_IOAPDATA',\n",
       " 'IntelGraphicsProfiles',\n",
       " 'Lambda Function.ipynb',\n",
       " 'Links',\n",
       " 'Local Settings',\n",
       " 'Machine Learning Assignment',\n",
       " 'MicrosoftEdgeBackups',\n",
       " 'Movie Recommendation System',\n",
       " 'Music',\n",
       " 'My Documents',\n",
       " 'MySQL PRACTICE',\n",
       " 'NetHood',\n",
       " 'NTUSER.DAT',\n",
       " 'ntuser.dat.LOG1',\n",
       " 'ntuser.dat.LOG2',\n",
       " 'NTUSER.DAT{fddd4458-eaf7-11ea-ac4c-800b0a940d3e}.TM.blf',\n",
       " 'NTUSER.DAT{fddd4458-eaf7-11ea-ac4c-800b0a940d3e}.TMContainer00000000000000000001.regtrans-ms',\n",
       " 'NTUSER.DAT{fddd4458-eaf7-11ea-ac4c-800b0a940d3e}.TMContainer00000000000000000002.regtrans-ms',\n",
       " 'ntuser.ini',\n",
       " 'OneDrive',\n",
       " 'Pandas Practice',\n",
       " 'Pictures',\n",
       " 'Postman',\n",
       " 'PrintHood',\n",
       " 'Python Basic Assignment',\n",
       " 'Python Basic Written Assignment',\n",
       " 'Python Basics.ipynb',\n",
       " 'Recent',\n",
       " 'requirements.txt',\n",
       " 'Saved Games',\n",
       " 'seaborn-data',\n",
       " 'Searches',\n",
       " 'SendTo',\n",
       " 'SQL',\n",
       " 'Start Menu',\n",
       " 'statistic',\n",
       " 'Statistics',\n",
       " 'Templates',\n",
       " 'test1',\n",
       " 'test2',\n",
       " 'Tracing',\n",
       " 'Untitled.ipynb',\n",
       " 'Untitled1.ipynb',\n",
       " 'Untitled10.ipynb',\n",
       " 'Untitled11.ipynb',\n",
       " 'Untitled12.ipynb',\n",
       " 'Untitled13.ipynb',\n",
       " 'Untitled14.ipynb',\n",
       " 'Untitled2.ipynb',\n",
       " 'Untitled3.ipynb',\n",
       " 'Untitled4.ipynb',\n",
       " 'Untitled5.ipynb',\n",
       " 'Untitled6.ipynb',\n",
       " 'Untitled7.ipynb',\n",
       " 'Untitled8.ipynb',\n",
       " 'Untitled9.ipynb',\n",
       " 'Videos']"
      ]
     },
     "execution_count": 5,
     "metadata": {},
     "output_type": "execute_result"
    }
   ],
   "source": [
    "os.listdir('../')"
   ]
  },
  {
   "cell_type": "markdown",
   "metadata": {},
   "source": [
    "### 6. Use multiprocessing to create three separate processes. Make each one wait a random number of seconds between one and five, print the current time, and then exit."
   ]
  },
  {
   "cell_type": "code",
   "execution_count": 7,
   "metadata": {},
   "outputs": [],
   "source": [
    "from multiprocessing import Process\n",
    "import datetime as dt\n",
    "import time\n",
    "import random\n",
    "\n",
    "def print_dt(sec):\n",
    "\n",
    "    time.sleep(sec)\n",
    "    print (f'Current time is = {dt.datetime.now().time()} \\nProcess took {sec} second(s)')\n",
    "    \n",
    "for i in range(3):\n",
    "    wait = random.uniform(1,5)\n",
    "    res = Process(target = print_dt, args = (wait,))\n",
    "    res.start()"
   ]
  },
  {
   "cell_type": "markdown",
   "metadata": {},
   "source": [
    "### 7. Create a date object of your day of birth."
   ]
  },
  {
   "cell_type": "code",
   "execution_count": 7,
   "metadata": {},
   "outputs": [
    {
     "name": "stdout",
     "output_type": "stream",
     "text": [
      "1993-09-23 00:00:00\n"
     ]
    }
   ],
   "source": [
    "import datetime as dt\n",
    "\n",
    "dob = dt.datetime(1993, 9, 23)\n",
    "\n",
    "print(dob)"
   ]
  },
  {
   "cell_type": "markdown",
   "metadata": {},
   "source": [
    "### 8. What day of the week was your day of birth?"
   ]
  },
  {
   "cell_type": "code",
   "execution_count": 8,
   "metadata": {},
   "outputs": [
    {
     "data": {
      "text/plain": [
       "3"
      ]
     },
     "execution_count": 8,
     "metadata": {},
     "output_type": "execute_result"
    }
   ],
   "source": [
    "dob.weekday() # Here Monday is 0 SO it was THURSDAY."
   ]
  },
  {
   "cell_type": "markdown",
   "metadata": {},
   "source": [
    "### 9. When will you be (or when were you) 10,000 days old?"
   ]
  },
  {
   "cell_type": "code",
   "execution_count": 10,
   "metadata": {},
   "outputs": [
    {
     "name": "stdout",
     "output_type": "stream",
     "text": [
      "I was 10000 days old on 2021-02-08 00:00:00\n"
     ]
    }
   ],
   "source": [
    "from datetime import timedelta\n",
    "\n",
    "delta = timedelta(days=10000)\n",
    "\n",
    "future_date = dob + delta\n",
    "\n",
    "print (f'I was 10000 days old on {future_date}')"
   ]
  },
  {
   "cell_type": "code",
   "execution_count": null,
   "metadata": {},
   "outputs": [],
   "source": []
  }
 ],
 "metadata": {
  "kernelspec": {
   "display_name": "Python 3",
   "language": "python",
   "name": "python3"
  },
  "language_info": {
   "codemirror_mode": {
    "name": "ipython",
    "version": 3
   },
   "file_extension": ".py",
   "mimetype": "text/x-python",
   "name": "python",
   "nbconvert_exporter": "python",
   "pygments_lexer": "ipython3",
   "version": "3.8.5"
  }
 },
 "nbformat": 4,
 "nbformat_minor": 4
}
