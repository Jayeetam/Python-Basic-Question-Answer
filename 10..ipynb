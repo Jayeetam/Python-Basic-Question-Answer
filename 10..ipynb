{
 "cells": [
  {
   "cell_type": "markdown",
   "metadata": {},
   "source": [
    "### 1. How do you distinguish between shutil.copy() and shutil.copytree()?"
   ]
  },
  {
   "cell_type": "markdown",
   "metadata": {},
   "source": [
    "shutil.copy() will copy a single file.\n",
    "\n",
    "shutil.copytree() will copy the entire directory and the subdirectories and files inside the directory."
   ]
  },
  {
   "cell_type": "markdown",
   "metadata": {},
   "source": [
    "### 2. What function is used to rename files??"
   ]
  },
  {
   "cell_type": "markdown",
   "metadata": {},
   "source": [
    "We can either use os.rename() or shutil.move() function to rename files."
   ]
  },
  {
   "cell_type": "markdown",
   "metadata": {},
   "source": [
    "### 3. What is the difference between the delete functions in the send2trash and shutil modules?"
   ]
  },
  {
   "cell_type": "markdown",
   "metadata": {},
   "source": [
    "shutil module (rmtree) will permanently delete files and folders. send2trash function will send the file/folder to the computers recycle bin."
   ]
  },
  {
   "cell_type": "markdown",
   "metadata": {},
   "source": [
    "### 4. ZipFile objects have a close() method just like File objects’ close() method. What ZipFile method is equivalent to File objects’ open() method?"
   ]
  },
  {
   "cell_type": "markdown",
   "metadata": {},
   "source": [
    "Similar to open() method we can use 'w' argument to open and write files."
   ]
  },
  {
   "cell_type": "code",
   "execution_count": 1,
   "metadata": {},
   "outputs": [],
   "source": [
    "import zipfile\n",
    "\n",
    "file = zipfile.ZipFile('test.zip','w')\n",
    "file.close()"
   ]
  },
  {
   "cell_type": "markdown",
   "metadata": {},
   "source": [
    "### 5. Create a programme that searches a folder tree for files with a certain file extension (such as .pdf or .jpg). Copy these files from whatever location they are in to a new folder."
   ]
  },
  {
   "cell_type": "code",
   "execution_count": 12,
   "metadata": {},
   "outputs": [
    {
     "name": "stdout",
     "output_type": "stream",
     "text": [
      "Finding file(s) with ext(s): ('jpg', 'pdf')\n",
      "copying file C:\\Users\\user\\Desktop\\image\\autumn_forest.jpg\n",
      "copying file C:\\Users\\user\\Desktop\\image\\ear-1437725.jpg\n",
      "copying file C:\\Users\\user\\Desktop\\image\\lab.pdf\n",
      "copying file C:\\Users\\user\\Desktop\\image\\logistics-import-export-background-transport-industry-container-cargo-freight-ship-sunset-sky-137520342.jpg\n",
      "copying file C:\\Users\\user\\Desktop\\image\\realistic-ear-illustration_199548-53.jpg\n"
     ]
    }
   ],
   "source": [
    "import os\n",
    "import shutil\n",
    "\n",
    "def copyfile(source_folder,ext_type,destination_folder):\n",
    "    ext_type = tuple(ext_type)\n",
    "    \n",
    "    if os.path.isdir(source_folder) and os.path.isdir(destination_folder):\n",
    "        print (f'Finding file(s) with ext(s): {ext_type}')\n",
    "        for root, folder, filename in os.walk(source_folder):\n",
    "            for fname in filename:\n",
    "                if fname.endswith(ext_type):\n",
    "                    source_file = str(os.path.join(root,fname))\n",
    "                    print (f'copying file {source_file}')\n",
    "                    try:\n",
    "                        shutil.copy(source_file,destination_folder)\n",
    "                    except Exception as e:\n",
    "                        print (f'Error occured: {e}')\n",
    "    else:\n",
    "        print ('Please check your source and destination path')\n",
    "        \n",
    "        \n",
    "source = 'C:\\\\Users\\\\user\\\\Desktop\\\\image'\n",
    "dest = 'C:\\\\Users\\\\user\\\\Downloads\\\\sql_\\\\New folder'\n",
    "extension = ['jpg','pdf']\n",
    "copyfile(source,extension,dest)"
   ]
  },
  {
   "cell_type": "code",
   "execution_count": null,
   "metadata": {},
   "outputs": [],
   "source": []
  },
  {
   "cell_type": "code",
   "execution_count": null,
   "metadata": {},
   "outputs": [],
   "source": []
  }
 ],
 "metadata": {
  "kernelspec": {
   "display_name": "Python 3",
   "language": "python",
   "name": "python3"
  },
  "language_info": {
   "codemirror_mode": {
    "name": "ipython",
    "version": 3
   },
   "file_extension": ".py",
   "mimetype": "text/x-python",
   "name": "python",
   "nbconvert_exporter": "python",
   "pygments_lexer": "ipython3",
   "version": "3.8.5"
  }
 },
 "nbformat": 4,
 "nbformat_minor": 4
}
